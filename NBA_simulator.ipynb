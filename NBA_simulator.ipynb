{
 "cells": [
  {
   "cell_type": "code",
   "execution_count": null,
   "metadata": {},
   "outputs": [],
   "source": [
    "import pandas as pd \n",
    "import random as rnd\n",
    "import numpy as np \n",
    "import matplotlib.pyplot as plt"
   ]
  },
  {
   "cell_type": "code",
   "execution_count": null,
   "metadata": {},
   "outputs": [],
   "source": [
    "nba = pd.read_csv('nba.games.stats.csv')"
   ]
  },
  {
   "cell_type": "code",
   "execution_count": null,
   "metadata": {},
   "outputs": [],
   "source": [
    "nba.columns"
   ]
  },
  {
   "cell_type": "code",
   "execution_count": null,
   "metadata": {},
   "outputs": [],
   "source": [
    "team1 = nba[nba.Team == 'GSW']\n",
    "team2 = nba[nba.Team == 'CLE']"
   ]
  },
  {
   "cell_type": "code",
   "execution_count": null,
   "metadata": {},
   "outputs": [],
   "source": [
    "team1.Date = team1.Date.apply(lambda x: pd.to_datetime(x, format='%Y-%m-%d', errors='ignore'))\n",
    "team1_2017_2018 = team1[team1['Date'] > pd.to_datetime('20171001', format='%Y%m%d', errors='ignore')]\n",
    "\n",
    "team2.Date = team2.Date.apply(lambda x: pd.to_datetime(x, format='%Y-%m-%d', errors='ignore'))\n",
    "team2_2017_2018 = team2[team2['Date'] > pd.to_datetime('20171001', format='%Y%m%d', errors='ignore')]"
   ]
  },
  {
   "cell_type": "code",
   "execution_count": null,
   "metadata": {},
   "outputs": [],
   "source": [
    "team1_point_mean = team1.TeamPoints.mean()\n",
    "team1_point_std = team1.TeamPoints.std()\n",
    "team1_Oppoent_point_mean = team1.OpponentPoints.mean()\n",
    "team1_Oppoent_point_std = team1.OpponentPoints.std()\n",
    "\n",
    "team2_point_mean = team2.TeamPoints.mean()\n",
    "team2_point_std = team2.TeamPoints.std()\n",
    "team2_Oppoent_point_mean = team2.OpponentPoints.mean()\n",
    "team2_Oppoent_point_std = team2.OpponentPoints.std()\n",
    "\n",
    "print(\"team1 Points Mean \", team1_point_mean)\n",
    "print(\"team1 Points SD \", team1_point_std)\n",
    "print(\"team1 OppPoints Mean \", team1_Oppoent_point_mean)\n",
    "print(\"team1 OppPoints SD \", team1_Oppoent_point_std)\n",
    "\n",
    "print(\"team2 Points Mean \", team2_point_mean)\n",
    "print(\"team2 Points SD \", team2_point_std)\n",
    "print(\"team2 OppPoints Mean \", team2_Oppoent_point_mean)\n",
    "print(\"team2 OppPoints SD \", team2_Oppoent_point_std)"
   ]
  },
  {
   "cell_type": "code",
   "execution_count": null,
   "metadata": {},
   "outputs": [],
   "source": [
    "# simulate the game once\n",
    "def gameSim():\n",
    "    team1_final_score = (rnd.gauss(team1_point_mean,team1_point_std)+ rnd.gauss(team2_Oppoent_point_mean,team2_Oppoent_point_std))/2\n",
    "    team2_final_score = (rnd.gauss(team2_point_mean,team2_point_std)+ rnd.gauss(team1_Oppoent_point_mean,team1_Oppoent_point_std))/2\n",
    "    if int(round(team1_final_score)) > int(round(team2_final_score)):\n",
    "        return 1\n",
    "    elif int(round(team1_final_score)) < int(round(team2_final_score)):\n",
    "        return 2\n",
    "    else: return 0"
   ]
  },
  {
   "cell_type": "code",
   "execution_count": null,
   "metadata": {},
   "outputs": [],
   "source": [
    "# result of simulating the game once\n",
    "gameSim()"
   ]
  },
  {
   "cell_type": "code",
   "execution_count": null,
   "metadata": {},
   "outputs": [],
   "source": [
    "# simulate the game many times\n",
    "def gamesSim(ns):\n",
    "    gamesout = []  # 1: team1 won; 2: team2 won; 0: tie\n",
    "    team1win = 0\n",
    "    team2win = 0\n",
    "    tie = 0\n",
    "    for i in range(ns):\n",
    "        gm = gameSim()\n",
    "        gamesout.append(gm)\n",
    "        if gm == 1:\n",
    "            team1win +=1 \n",
    "        elif gm == 2:\n",
    "            team2win +=1\n",
    "        else: tie +=1 \n",
    "    print('team1 Win ', team1win/(team1win+team2win+tie),'%')\n",
    "    print('team2 Win ', team2win/(team1win+team2win+tie),'%')\n",
    "    print('Tie ', tie/(team1win+team2win+tie), '%')\n",
    "    return gamesout"
   ]
  },
  {
   "cell_type": "code",
   "execution_count": null,
   "metadata": {},
   "outputs": [],
   "source": [
    "# result of simulating the game many times\n",
    "gamesSim(10000)"
   ]
  }
 ],
 "metadata": {
  "kernelspec": {
   "display_name": "Python 3",
   "language": "python",
   "name": "python3"
  },
  "language_info": {
   "codemirror_mode": {
    "name": "ipython",
    "version": 3
   },
   "file_extension": ".py",
   "mimetype": "text/x-python",
   "name": "python",
   "nbconvert_exporter": "python",
   "pygments_lexer": "ipython3",
   "version": "3.7.4"
  }
 },
 "nbformat": 4,
 "nbformat_minor": 2
}
